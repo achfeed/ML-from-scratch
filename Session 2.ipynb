{
 "cells": [
  {
   "cell_type": "markdown",
   "metadata": {},
   "source": [
    "## Simple linear regression tutorial"
   ]
  },
  {
   "cell_type": "markdown",
   "metadata": {},
   "source": [
    "**lm() Function**\n",
    "\n",
    "- This function creates the relationship model between the predictor and the response variable.\n",
    "\n",
    "**Syntax**\n",
    "\n",
    "- The basic syntax for lm() function in linear regression is :\n",
    "    - lm(Formula,Data)\n",
    "    \n",
    "        **Formula** : symbol presenting the relation between x and y.<br>\n",
    "        **Data** : vector on which the formula will be applied."
   ]
  },
  {
   "cell_type": "code",
   "execution_count": 2,
   "metadata": {},
   "outputs": [],
   "source": [
    "x <- c(151, 174, 138, 186, 128, 136, 179, 163, 152, 131) #height\n",
    "y <- c(63, 81, 56, 91, 47, 57, 76, 72, 62, 48) #weight"
   ]
  },
  {
   "cell_type": "code",
   "execution_count": 3,
   "metadata": {},
   "outputs": [],
   "source": [
    "# Apply the lm() function.\n",
    "relation <- lm(y~x)"
   ]
  },
  {
   "cell_type": "code",
   "execution_count": 4,
   "metadata": {},
   "outputs": [
    {
     "name": "stdout",
     "output_type": "stream",
     "text": [
      "\n",
      "Call:\n",
      "lm(formula = y ~ x)\n",
      "\n",
      "Coefficients:\n",
      "(Intercept)            x  \n",
      "   -38.4551       0.6746  \n",
      "\n"
     ]
    }
   ],
   "source": [
    "print(relation)"
   ]
  },
  {
   "cell_type": "markdown",
   "metadata": {},
   "source": [
    "#### Residuals, P-value, R squared"
   ]
  },
  {
   "cell_type": "code",
   "execution_count": 5,
   "metadata": {},
   "outputs": [
    {
     "name": "stdout",
     "output_type": "stream",
     "text": [
      "\n",
      "Call:\n",
      "lm(formula = y ~ x)\n",
      "\n",
      "Residuals:\n",
      "    Min      1Q  Median      3Q     Max \n",
      "-6.3002 -1.6629  0.0412  1.8944  3.9775 \n",
      "\n",
      "Coefficients:\n",
      "             Estimate Std. Error t value Pr(>|t|)    \n",
      "(Intercept) -38.45509    8.04901  -4.778  0.00139 ** \n",
      "x             0.67461    0.05191  12.997 1.16e-06 ***\n",
      "---\n",
      "Signif. codes:  0 '***' 0.001 '**' 0.01 '*' 0.05 '.' 0.1 ' ' 1\n",
      "\n",
      "Residual standard error: 3.253 on 8 degrees of freedom\n",
      "Multiple R-squared:  0.9548,\tAdjusted R-squared:  0.9491 \n",
      "F-statistic: 168.9 on 1 and 8 DF,  p-value: 1.164e-06\n",
      "\n"
     ]
    }
   ],
   "source": [
    "print(summary(relation))"
   ]
  },
  {
   "cell_type": "markdown",
   "metadata": {},
   "source": [
    "**predict() Function**\n",
    "\n",
    "Syntax:\n",
    "- predict(object, newdata)\n",
    "\n",
    "    **object** formula which is already created using the lm() function.<br>\n",
    "    **newdata** vector containing the new value for predictor variable.\n"
   ]
  },
  {
   "cell_type": "code",
   "execution_count": 6,
   "metadata": {},
   "outputs": [
    {
     "data": {
      "text/html": [
       "<table>\n",
       "<thead><tr><th scope=col>x</th></tr></thead>\n",
       "<tbody>\n",
       "\t<tr><td>170</td></tr>\n",
       "</tbody>\n",
       "</table>\n"
      ],
      "text/latex": [
       "\\begin{tabular}{r|l}\n",
       " x\\\\\n",
       "\\hline\n",
       "\t 170\\\\\n",
       "\\end{tabular}\n"
      ],
      "text/markdown": [
       "\n",
       "| x |\n",
       "|---|\n",
       "| 170 |\n",
       "\n"
      ],
      "text/plain": [
       "  x  \n",
       "1 170"
      ]
     },
     "metadata": {},
     "output_type": "display_data"
    }
   ],
   "source": [
    "# Find weight of a person with height 170\n",
    "a <- data.frame(x = 170)\n",
    "a"
   ]
  },
  {
   "cell_type": "code",
   "execution_count": 7,
   "metadata": {},
   "outputs": [],
   "source": [
    "result <- predict(relation,a)"
   ]
  },
  {
   "cell_type": "code",
   "execution_count": 8,
   "metadata": {},
   "outputs": [
    {
     "name": "stdout",
     "output_type": "stream",
     "text": [
      "       1 \n",
      "76.22869 \n"
     ]
    }
   ],
   "source": [
    "print(result)"
   ]
  },
  {
   "cell_type": "markdown",
   "metadata": {},
   "source": [
    "#### Visualiser la regression"
   ]
  },
  {
   "cell_type": "code",
   "execution_count": 9,
   "metadata": {},
   "outputs": [],
   "source": [
    "library(repr)\n",
    "\n",
    "# Change plot size to 4 x 4\n",
    "options(repr.plot.width=4, repr.plot.height=4)"
   ]
  },
  {
   "cell_type": "code",
   "execution_count": 10,
   "metadata": {},
   "outputs": [
    {
     "data": {
      "image/png": "[encoded data removed]",
      "text/plain": [
       "Plot with title \"Height & Weight Regression\""
      ]
     },
     "metadata": {},
     "output_type": "display_data"
    }
   ],
   "source": [
    "plot(y,x, col = \"blue\", main = \"Height & Weight Regression\", cex.main=1, cex.lab=0.8, cex.axis=0.8,\n",
    "abline(lm(x~y)),xlab = \"Weight in Kg\",ylab = \"Height in cm\")"
   ]
  },
  {
   "cell_type": "markdown",
   "metadata": {},
   "source": [
    "# Linear regression in action"
   ]
  },
  {
   "cell_type": "code",
   "execution_count": 11,
   "metadata": {},
   "outputs": [],
   "source": [
    "dataset = read.csv(\"C:/Users/achra/Downloads/data-session2.csv\", header=T,\n",
    "colClasses = c(\"numeric\", \"numeric\", \"numeric\"))"
   ]
  },
  {
   "cell_type": "code",
   "execution_count": 12,
   "metadata": {},
   "outputs": [
    {
     "data": {
      "text/html": [
       "<table>\n",
       "<thead><tr><th scope=col>Month</th><th scope=col>Spend</th><th scope=col>Sales</th></tr></thead>\n",
       "<tbody>\n",
       "\t<tr><td>1    </td><td>1000 </td><td> 9914</td></tr>\n",
       "\t<tr><td>2    </td><td>4000 </td><td>40487</td></tr>\n",
       "\t<tr><td>3    </td><td>5000 </td><td>54324</td></tr>\n",
       "\t<tr><td>4    </td><td>4500 </td><td>50044</td></tr>\n",
       "\t<tr><td>5    </td><td>3000 </td><td>34719</td></tr>\n",
       "\t<tr><td>6    </td><td>4000 </td><td>42551</td></tr>\n",
       "</tbody>\n",
       "</table>\n"
      ],
      "text/latex": [
       "\\begin{tabular}{r|lll}\n",
       " Month & Spend & Sales\\\\\n",
       "\\hline\n",
       "\t 1     & 1000  &  9914\\\\\n",
       "\t 2     & 4000  & 40487\\\\\n",
       "\t 3     & 5000  & 54324\\\\\n",
       "\t 4     & 4500  & 50044\\\\\n",
       "\t 5     & 3000  & 34719\\\\\n",
       "\t 6     & 4000  & 42551\\\\\n",
       "\\end{tabular}\n"
      ],
      "text/markdown": [
       "\n",
       "| Month | Spend | Sales |\n",
       "|---|---|---|\n",
       "| 1     | 1000  |  9914 |\n",
       "| 2     | 4000  | 40487 |\n",
       "| 3     | 5000  | 54324 |\n",
       "| 4     | 4500  | 50044 |\n",
       "| 5     | 3000  | 34719 |\n",
       "| 6     | 4000  | 42551 |\n",
       "\n"
      ],
      "text/plain": [
       "  Month Spend Sales\n",
       "1 1     1000   9914\n",
       "2 2     4000  40487\n",
       "3 3     5000  54324\n",
       "4 4     4500  50044\n",
       "5 5     3000  34719\n",
       "6 6     4000  42551"
      ]
     },
     "metadata": {},
     "output_type": "display_data"
    }
   ],
   "source": [
    "head(dataset)"
   ]
  },
  {
   "cell_type": "markdown",
   "metadata": {},
   "source": [
    "## Simple (One Variable) and Multiple Linear Regression Using lm()"
   ]
  },
  {
   "cell_type": "markdown",
   "metadata": {},
   "source": [
    "#### Simple"
   ]
  },
  {
   "cell_type": "code",
   "execution_count": 12,
   "metadata": {},
   "outputs": [],
   "source": [
    "simple.fit = lm(Sales~Spend, data=dataset)"
   ]
  },
  {
   "cell_type": "code",
   "execution_count": 13,
   "metadata": {},
   "outputs": [
    {
     "data": {
      "text/plain": [
       "\n",
       "Call:\n",
       "lm(formula = Sales ~ Spend, data = dataset)\n",
       "\n",
       "Residuals:\n",
       "   Min     1Q Median     3Q    Max \n",
       " -3385  -2097    258   1726   3034 \n",
       "\n",
       "Coefficients:\n",
       "             Estimate Std. Error t value Pr(>|t|)    \n",
       "(Intercept) 1383.4714  1255.2404   1.102    0.296    \n",
       "Spend         10.6222     0.1625  65.378 1.71e-14 ***\n",
       "---\n",
       "Signif. codes:  0 '***' 0.001 '**' 0.01 '*' 0.05 '.' 0.1 ' ' 1\n",
       "\n",
       "Residual standard error: 2313 on 10 degrees of freedom\n",
       "Multiple R-squared:  0.9977,\tAdjusted R-squared:  0.9974 \n",
       "F-statistic:  4274 on 1 and 10 DF,  p-value: 1.707e-14\n"
      ]
     },
     "metadata": {},
     "output_type": "display_data"
    }
   ],
   "source": [
    "summary(simple.fit)"
   ]
  },
  {
   "cell_type": "markdown",
   "metadata": {},
   "source": [
    "#### Multiple"
   ]
  },
  {
   "cell_type": "code",
   "execution_count": 14,
   "metadata": {},
   "outputs": [],
   "source": [
    "multi.fit = lm(Sales~Spend+Month, data=dataset)"
   ]
  },
  {
   "cell_type": "code",
   "execution_count": 15,
   "metadata": {},
   "outputs": [
    {
     "data": {
      "text/plain": [
       "\n",
       "Call:\n",
       "lm(formula = Sales ~ Spend + Month, data = dataset)\n",
       "\n",
       "Residuals:\n",
       "     Min       1Q   Median       3Q      Max \n",
       "-1793.73 -1558.33    -1.73  1374.19  1911.58 \n",
       "\n",
       "Coefficients:\n",
       "             Estimate Std. Error t value Pr(>|t|)    \n",
       "(Intercept) -567.6098  1041.8836  -0.545  0.59913    \n",
       "Spend         10.3825     0.1328  78.159 4.65e-14 ***\n",
       "Month        541.3736   158.1660   3.423  0.00759 ** \n",
       "---\n",
       "Signif. codes:  0 '***' 0.001 '**' 0.01 '*' 0.05 '.' 0.1 ' ' 1\n",
       "\n",
       "Residual standard error: 1607 on 9 degrees of freedom\n",
       "Multiple R-squared:  0.999,\tAdjusted R-squared:  0.9988 \n",
       "F-statistic:  4433 on 2 and 9 DF,  p-value: 3.368e-14\n"
      ]
     },
     "metadata": {},
     "output_type": "display_data"
    }
   ],
   "source": [
    "summary(multi.fit)"
   ]
  },
  {
   "cell_type": "markdown",
   "metadata": {},
   "source": [
    "#### Compare R-squared\n",
    "- Simple : R-squared:  0.9977<br>\n",
    "- Multiple : R-squared:  0.999\n",
    "\n",
    "#### Compare Risiduals\n",
    "- Simple : Max = 3034\n",
    "- Multiple : Max = 1911.58 "
   ]
  },
  {
   "cell_type": "code",
   "execution_count": 16,
   "metadata": {},
   "outputs": [
    {
     "data": {
      "image/png": "[encoded data removed]",
      "text/plain": [
       "Plot with title \"Spend x Residuals\n",
       "for Simple Regression\""
      ]
     },
     "metadata": {},
     "output_type": "display_data"
    }
   ],
   "source": [
    "plot(multi.fit$resid~dataset$Spend[order(dataset$Spend)],\n",
    " main=\"Spend x Residuals\\nfor Simple Regression\",\n",
    " xlab=\"Marketing Spend\", ylab=\"Residuals\")\n",
    "abline(h=0,lty=2)"
   ]
  },
  {
   "cell_type": "markdown",
   "metadata": {},
   "source": [
    "# What if Linear regression does not work ?"
   ]
  },
  {
   "cell_type": "code",
   "execution_count": 26,
   "metadata": {},
   "outputs": [],
   "source": [
    "dataset = read.csv(\"C:/Users/achra/Downloads/data-session2bis.csv\", header=T,\n",
    "colClasses = c(\"numeric\", \"numeric\", \"numeric\"))"
   ]
  },
  {
   "cell_type": "code",
   "execution_count": 18,
   "metadata": {},
   "outputs": [],
   "source": [
    "multi.fit = lm(Sales~Spend+Month, data=dataset)"
   ]
  },
  {
   "cell_type": "code",
   "execution_count": 19,
   "metadata": {},
   "outputs": [
    {
     "data": {
      "text/plain": [
       "\n",
       "Call:\n",
       "lm(formula = Sales ~ Spend + Month, data = dataset)\n",
       "\n",
       "Residuals:\n",
       "   Min     1Q Median     3Q    Max \n",
       "-32950 -24485 -14137  17040  91953 \n",
       "\n",
       "Coefficients:\n",
       "             Estimate Std. Error t value Pr(>|t|)\n",
       "(Intercept) 22591.345  25533.658   0.885    0.399\n",
       "Spend           2.134      3.255   0.655    0.529\n",
       "Month       -2387.943   3876.207  -0.616    0.553\n",
       "\n",
       "Residual standard error: 39390 on 9 degrees of freedom\n",
       "Multiple R-squared:  0.05571,\tAdjusted R-squared:  -0.1541 \n",
       "F-statistic: 0.2655 on 2 and 9 DF,  p-value: 0.7726\n"
      ]
     },
     "metadata": {},
     "output_type": "display_data"
    }
   ],
   "source": [
    "summary(multi.fit)"
   ]
  },
  {
   "cell_type": "code",
   "execution_count": 20,
   "metadata": {},
   "outputs": [
    {
     "data": {
      "image/png": "[encoded data removed]",
      "text/plain": [
       "Plot with title \"Spend x Residuals\n",
       "for Simple Regression\""
      ]
     },
     "metadata": {},
     "output_type": "display_data"
    }
   ],
   "source": [
    "#Spend x Residuals Plot\n",
    "plot(multi.fit$resid~dataset$Spend[order(dataset$Spend)],\n",
    " main=\"Spend x Residuals\\nfor Simple Regression\",\n",
    " xlab=\"Marketing Spend\", ylab=\"Residuals\")\n",
    "abline(h=0,lty=2)"
   ]
  },
  {
   "cell_type": "code",
   "execution_count": null,
   "metadata": {},
   "outputs": [],
   "source": []
  },
  {
   "cell_type": "markdown",
   "metadata": {},
   "source": [
    "# Exercice"
   ]
  },
  {
   "cell_type": "code",
   "execution_count": 13,
   "metadata": {},
   "outputs": [
    {
     "name": "stderr",
     "output_type": "stream",
     "text": [
      "Warning message:\n",
      "\"package 'tidyverse' was built under R version 3.6.3\"-- Attaching packages ------------------------------------------------------------------------------- tidyverse 1.3.0 --\n",
      "v ggplot2 3.3.2     v purrr   0.3.4\n",
      "v tibble  3.0.4     v dplyr   1.0.2\n",
      "v tidyr   1.1.2     v stringr 1.4.0\n",
      "v readr   1.4.0     v forcats 0.5.0\n",
      "Warning message:\n",
      "\"package 'ggplot2' was built under R version 3.6.3\"Warning message:\n",
      "\"package 'tibble' was built under R version 3.6.3\"Warning message:\n",
      "\"package 'tidyr' was built under R version 3.6.3\"Warning message:\n",
      "\"package 'readr' was built under R version 3.6.3\"Warning message:\n",
      "\"package 'purrr' was built under R version 3.6.3\"Warning message:\n",
      "\"package 'dplyr' was built under R version 3.6.3\"Warning message:\n",
      "\"package 'stringr' was built under R version 3.6.3\"Warning message:\n",
      "\"package 'forcats' was built under R version 3.6.3\"-- Conflicts ---------------------------------------------------------------------------------- tidyverse_conflicts() --\n",
      "x dplyr::filter() masks stats::filter()\n",
      "x dplyr::lag()    masks stats::lag()\n",
      "Warning message:\n",
      "\"package 'modelr' was built under R version 3.6.3\"Warning message:\n",
      "\"package 'broom' was built under R version 3.6.3\"\n",
      "Attaching package: 'broom'\n",
      "\n",
      "The following object is masked from 'package:modelr':\n",
      "\n",
      "    bootstrap\n",
      "\n"
     ]
    }
   ],
   "source": [
    "# Packages\n",
    "library(tidyverse)  # data manipulation and visualization\n",
    "library(modelr)     # provides easy pipeline modeling functions\n",
    "library(broom)      # helps to tidy up model outputs"
   ]
  },
  {
   "cell_type": "code",
   "execution_count": 14,
   "metadata": {},
   "outputs": [
    {
     "name": "stderr",
     "output_type": "stream",
     "text": [
      "Warning message:\n",
      "\"Missing column names filled in: 'X1' [1]\"\n",
      "-- Column specification ------------------------------------------------------------------------------------------------\n",
      "cols(\n",
      "  X1 = col_double(),\n",
      "  TV = col_double(),\n",
      "  Radio = col_double(),\n",
      "  Newspaper = col_double(),\n",
      "  Sales = col_double()\n",
      ")\n",
      "\n"
     ]
    }
   ],
   "source": [
    "advertising <- read_csv(\"C:/Users/achra/Downloads/Advertising.csv\")"
   ]
  },
  {
   "cell_type": "code",
   "execution_count": 15,
   "metadata": {},
   "outputs": [
    {
     "data": {
      "text/html": [
       "<table>\n",
       "<thead><tr><th scope=col>X1</th><th scope=col>TV</th><th scope=col>Radio</th><th scope=col>Newspaper</th><th scope=col>Sales</th></tr></thead>\n",
       "<tbody>\n",
       "\t<tr><td>1    </td><td>230.1</td><td>37.8 </td><td>69.2 </td><td>22.1 </td></tr>\n",
       "\t<tr><td>2    </td><td> 44.5</td><td>39.3 </td><td>45.1 </td><td>10.4 </td></tr>\n",
       "\t<tr><td>3    </td><td> 17.2</td><td>45.9 </td><td>69.3 </td><td> 9.3 </td></tr>\n",
       "\t<tr><td>4    </td><td>151.5</td><td>41.3 </td><td>58.5 </td><td>18.5 </td></tr>\n",
       "\t<tr><td>5    </td><td>180.8</td><td>10.8 </td><td>58.4 </td><td>12.9 </td></tr>\n",
       "\t<tr><td>6    </td><td>  8.7</td><td>48.9 </td><td>75.0 </td><td> 7.2 </td></tr>\n",
       "</tbody>\n",
       "</table>\n"
      ],
      "text/latex": [
       "\\begin{tabular}{r|lllll}\n",
       " X1 & TV & Radio & Newspaper & Sales\\\\\n",
       "\\hline\n",
       "\t 1     & 230.1 & 37.8  & 69.2  & 22.1 \\\\\n",
       "\t 2     &  44.5 & 39.3  & 45.1  & 10.4 \\\\\n",
       "\t 3     &  17.2 & 45.9  & 69.3  &  9.3 \\\\\n",
       "\t 4     & 151.5 & 41.3  & 58.5  & 18.5 \\\\\n",
       "\t 5     & 180.8 & 10.8  & 58.4  & 12.9 \\\\\n",
       "\t 6     &   8.7 & 48.9  & 75.0  &  7.2 \\\\\n",
       "\\end{tabular}\n"
      ],
      "text/markdown": [
       "\n",
       "| X1 | TV | Radio | Newspaper | Sales |\n",
       "|---|---|---|---|---|\n",
       "| 1     | 230.1 | 37.8  | 69.2  | 22.1  |\n",
       "| 2     |  44.5 | 39.3  | 45.1  | 10.4  |\n",
       "| 3     |  17.2 | 45.9  | 69.3  |  9.3  |\n",
       "| 4     | 151.5 | 41.3  | 58.5  | 18.5  |\n",
       "| 5     | 180.8 | 10.8  | 58.4  | 12.9  |\n",
       "| 6     |   8.7 | 48.9  | 75.0  |  7.2  |\n",
       "\n"
      ],
      "text/plain": [
       "  X1 TV    Radio Newspaper Sales\n",
       "1 1  230.1 37.8  69.2      22.1 \n",
       "2 2   44.5 39.3  45.1      10.4 \n",
       "3 3   17.2 45.9  69.3       9.3 \n",
       "4 4  151.5 41.3  58.5      18.5 \n",
       "5 5  180.8 10.8  58.4      12.9 \n",
       "6 6    8.7 48.9  75.0       7.2 "
      ]
     },
     "metadata": {},
     "output_type": "display_data"
    }
   ],
   "source": [
    "head(advertising)"
   ]
  },
  {
   "cell_type": "code",
   "execution_count": 16,
   "metadata": {},
   "outputs": [],
   "source": [
    "sample <- sample(c(TRUE, FALSE), nrow(advertising), replace = T, prob = c(0.6,0.4))"
   ]
  },
  {
   "cell_type": "code",
   "execution_count": 23,
   "metadata": {},
   "outputs": [],
   "source": [
    "# Afficher les premières lignes du Dataframe"
   ]
  },
  {
   "cell_type": "code",
   "execution_count": null,
   "metadata": {},
   "outputs": [],
   "source": []
  },
  {
   "cell_type": "code",
   "execution_count": 24,
   "metadata": {},
   "outputs": [
    {
     "ename": "ERROR",
     "evalue": "Error in subset(DATA, select = -c()): objet 'DATA' introuvable\n",
     "output_type": "error",
     "traceback": [
      "Error in subset(DATA, select = -c()): objet 'DATA' introuvable\nTraceback:\n",
      "1. subset(DATA, select = -c())"
     ]
    }
   ],
   "source": [
    "# Modifier le code suivant pour supprimer la colonne X1\n",
    "advertising = subset(DATA, select = -c())"
   ]
  },
  {
   "cell_type": "code",
   "execution_count": null,
   "metadata": {},
   "outputs": [],
   "source": [
    "# Afficher les premières lignes du Dataframe"
   ]
  },
  {
   "cell_type": "code",
   "execution_count": null,
   "metadata": {},
   "outputs": [],
   "source": [
    "set.seed(...) # ??"
   ]
  },
  {
   "cell_type": "code",
   "execution_count": null,
   "metadata": {},
   "outputs": [],
   "source": [
    "# code 1\n",
    "sample <- sample(c(TRUE, FALSE), nrow(advertising), replace = T, prob = c(0.6,0.4))"
   ]
  },
  {
   "cell_type": "code",
   "execution_count": null,
   "metadata": {},
   "outputs": [],
   "source": [
    "# code 2\n",
    "train <- advertising[sample, ]\n",
    "test <- advertising[!sample, ]"
   ]
  },
  {
   "cell_type": "markdown",
   "metadata": {},
   "source": [
    "**Q1** Quelle est l'utilité des codes 1 et 2 ?\n",
    "\n",
    "...\n",
    "\n",
    "...\n",
    "\n",
    "..."
   ]
  },
  {
   "cell_type": "code",
   "execution_count": null,
   "metadata": {},
   "outputs": [],
   "source": [
    "# Déclarer le model de regression pour la variable  expliquer (Sales) et fonction de la variable (TV)\n",
    "model1 <- "
   ]
  },
  {
   "cell_type": "code",
   "execution_count": null,
   "metadata": {},
   "outputs": [],
   "source": [
    "# Afficher les détails de la regrssion\n",
    "# summary"
   ]
  },
  {
   "cell_type": "code",
   "execution_count": null,
   "metadata": {},
   "outputs": [],
   "source": [
    "# Evaluer les coeff\n",
    "tidy(model1)"
   ]
  },
  {
   "cell_type": "code",
   "execution_count": null,
   "metadata": {},
   "outputs": [],
   "source": [
    "# R squared\n",
    "rsquare(model1, data = train)"
   ]
  },
  {
   "cell_type": "code",
   "execution_count": null,
   "metadata": {},
   "outputs": [],
   "source": [
    "# Evaluation graphique\n",
    "ggplot(train, aes(TV, Sales)) +\n",
    "  geom_point() +\n",
    "  geom_smooth(method = \"lm\") +\n",
    "  geom_smooth(se = FALSE, color = \"red\")"
   ]
  },
  {
   "cell_type": "code",
   "execution_count": null,
   "metadata": {},
   "outputs": [],
   "source": [
    "head((test <- test %>% \n",
    "      add_predictions(model1)))"
   ]
  },
  {
   "cell_type": "code",
   "execution_count": null,
   "metadata": {},
   "outputs": [],
   "source": [
    "# test MSE\n",
    "test %>% \n",
    "  add_predictions(model1) %>%\n",
    "  summarise(MSE = mean((Sales - pred)^2))"
   ]
  },
  {
   "cell_type": "markdown",
   "metadata": {},
   "source": [
    "# Multiple Regression"
   ]
  },
  {
   "cell_type": "code",
   "execution_count": null,
   "metadata": {},
   "outputs": [],
   "source": [
    "# Déclarer le model2 qui prend en compte les variables (TV, Radio et Newspaper)\n",
    "model2 <- "
   ]
  },
  {
   "cell_type": "code",
   "execution_count": null,
   "metadata": {},
   "outputs": [],
   "source": [
    "# summary\n"
   ]
  },
  {
   "cell_type": "code",
   "execution_count": null,
   "metadata": {},
   "outputs": [],
   "source": [
    "# Evaluer les coeffs\n"
   ]
  },
  {
   "cell_type": "code",
   "execution_count": null,
   "metadata": {},
   "outputs": [],
   "source": [
    "# Cette methode permet de comparer deux modèles, analyser les résultats\n",
    "list(model1 = broom::glance(model1), model2 = broom::glance(model2))"
   ]
  },
  {
   "cell_type": "markdown",
   "metadata": {},
   "source": [
    "**Q2** Que remarquez-vous ?\n",
    "\n",
    "...\n",
    "\n",
    "...\n",
    "\n",
    "..."
   ]
  },
  {
   "cell_type": "code",
   "execution_count": null,
   "metadata": {},
   "outputs": [],
   "source": [
    "test %>%\n",
    "  gather_predictions(model1, model2) %>%\n",
    "  group_by(model) %>%\n",
    "  summarise(MSE = mean((Sales-pred)^2))"
   ]
  },
  {
   "cell_type": "code",
   "execution_count": null,
   "metadata": {},
   "outputs": [],
   "source": [
    "# add_predictions(model2) à l'échantillon de test, le résultat doit ressembler à la cellule ci dessous :"
   ]
  }
 ],
 "metadata": {
  "kernelspec": {
   "display_name": "R",
   "language": "R",
   "name": "ir"
  },
  "language_info": {
   "codemirror_mode": "r",
   "file_extension": ".r",
   "mimetype": "text/x-r-source",
   "name": "R",
   "pygments_lexer": "r",
   "version": "3.6.1"
  }
 },
 "nbformat": 4,
 "nbformat_minor": 4
}
