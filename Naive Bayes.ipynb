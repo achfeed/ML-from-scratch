{
 "cells": [
  {
   "cell_type": "code",
   "execution_count": 1,
   "metadata": {},
   "outputs": [
    {
     "name": "stderr",
     "output_type": "stream",
     "text": [
      "\n",
      "Attaching package: 'dplyr'\n",
      "\n",
      "The following objects are masked from 'package:stats':\n",
      "\n",
      "    filter, lag\n",
      "\n",
      "The following objects are masked from 'package:base':\n",
      "\n",
      "    intersect, setdiff, setequal, union\n",
      "\n"
     ]
    }
   ],
   "source": [
    "options(warn=-1)\n",
    "library(dplyr)"
   ]
  },
  {
   "cell_type": "markdown",
   "metadata": {},
   "source": [
    "# Naive Bayes\n",
    "**Naive Bayes est un algorithme d'apprentissage automatique supervisé basé sur le théorème de Bayes qui est utilisé pour résoudre des problèmes de classification en suivant une approche probabiliste.\n",
    "Il est basé sur l'idée que les variables prédictives d'un modèle d'apprentissage automatique sont indépendantes les unes des autres. Cela signifie que le résultat d'un modèle dépend d'un ensemble de variables indépendantes qui n'ont rien à voir les unes avec les autres.**\n",
    "<br>\n",
    "### Mais pourquoi Bayes est-il appelé \"Naïf\" ?\n",
    "**Dans les problèmes du monde réel, les variables prédicteurs ne sont pas toujours indépendantes les unes des autres, il y a toujours des corrélations entre elles. Puisque Naive Bayes considère que chaque variable prédictive est indépendante de toute autre variable du modèle, il est appelée \"Naïf\".**\n",
    "<br>\n",
    "### Les mathématiques derrière le Naive Bayes\n",
    "**Le principe derrière Naive Bayes est le théorème de Bayes, également connu sous le nom de règle de Bayes. Le théorème de Bayes est utilisé pour calculer la probabilité conditionnelle, qui n'est rien d'autre que la probabilité qu'un événement se produise sur la base d'informations sur les événements du passé. Mathématiquement, le théorème de Bayes est représenté comme suit:**"
   ]
  },
  {
   "attachments": {
    "image.png": {
     "image/png": "[encoded data removed]"
    }
   },
   "cell_type": "markdown",
   "metadata": {},
   "source": [
    "![image.png](attachment:image.png)\n",
    "\n",
    "    A is known as the proposition and B is the evidence\n",
    "    P(A) represents the prior probability of the proposition\n",
    "    P(B) represents the prior probability of evidence\n",
    "    P(A|B) is called the posterior\n",
    "    P(B|A) is the likelihood"
   ]
  },
  {
   "cell_type": "code",
   "execution_count": 2,
   "metadata": {},
   "outputs": [],
   "source": [
    "#Reading data into R\n",
    "data<- read.csv(\"C:/Users/achra/Downloads/diabetes.csv\")"
   ]
  },
  {
   "cell_type": "code",
   "execution_count": 3,
   "metadata": {},
   "outputs": [
    {
     "name": "stdout",
     "output_type": "stream",
     "text": [
      "'data.frame':\t768 obs. of  9 variables:\n",
      " $ Pregnancies             : int  6 1 8 1 0 5 3 10 2 8 ...\n",
      " $ Glucose                 : int  148 85 183 89 137 116 78 115 197 125 ...\n",
      " $ BloodPressure           : int  72 66 64 66 40 74 50 0 70 96 ...\n",
      " $ SkinThickness           : int  35 29 0 23 35 0 32 0 45 0 ...\n",
      " $ Insulin                 : int  0 0 0 94 168 0 88 0 543 0 ...\n",
      " $ BMI                     : num  33.6 26.6 23.3 28.1 43.1 25.6 31 35.3 30.5 0 ...\n",
      " $ DiabetesPedigreeFunction: num  0.627 0.351 0.672 0.167 2.288 ...\n",
      " $ Age                     : int  50 31 32 21 33 30 26 29 53 54 ...\n",
      " $ Outcome                 : int  1 0 1 0 1 0 1 0 1 1 ...\n"
     ]
    }
   ],
   "source": [
    "str(data)"
   ]
  },
  {
   "cell_type": "code",
   "execution_count": 4,
   "metadata": {},
   "outputs": [
    {
     "data": {
      "text/html": [
       "<table>\n",
       "<thead><tr><th scope=col>Pregnancies</th><th scope=col>Glucose</th><th scope=col>BloodPressure</th><th scope=col>SkinThickness</th><th scope=col>Insulin</th><th scope=col>BMI</th><th scope=col>DiabetesPedigreeFunction</th><th scope=col>Age</th><th scope=col>Outcome</th></tr></thead>\n",
       "<tbody>\n",
       "\t<tr><td>6    </td><td>148  </td><td>72   </td><td>35   </td><td>  0  </td><td>33.6 </td><td>0.627</td><td>50   </td><td>1    </td></tr>\n",
       "\t<tr><td>1    </td><td> 85  </td><td>66   </td><td>29   </td><td>  0  </td><td>26.6 </td><td>0.351</td><td>31   </td><td>0    </td></tr>\n",
       "\t<tr><td>8    </td><td>183  </td><td>64   </td><td> 0   </td><td>  0  </td><td>23.3 </td><td>0.672</td><td>32   </td><td>1    </td></tr>\n",
       "\t<tr><td>1    </td><td> 89  </td><td>66   </td><td>23   </td><td> 94  </td><td>28.1 </td><td>0.167</td><td>21   </td><td>0    </td></tr>\n",
       "\t<tr><td>0    </td><td>137  </td><td>40   </td><td>35   </td><td>168  </td><td>43.1 </td><td>2.288</td><td>33   </td><td>1    </td></tr>\n",
       "\t<tr><td>5    </td><td>116  </td><td>74   </td><td> 0   </td><td>  0  </td><td>25.6 </td><td>0.201</td><td>30   </td><td>0    </td></tr>\n",
       "</tbody>\n",
       "</table>\n"
      ],
      "text/latex": [
       "\\begin{tabular}{r|lllllllll}\n",
       " Pregnancies & Glucose & BloodPressure & SkinThickness & Insulin & BMI & DiabetesPedigreeFunction & Age & Outcome\\\\\n",
       "\\hline\n",
       "\t 6     & 148   & 72    & 35    &   0   & 33.6  & 0.627 & 50    & 1    \\\\\n",
       "\t 1     &  85   & 66    & 29    &   0   & 26.6  & 0.351 & 31    & 0    \\\\\n",
       "\t 8     & 183   & 64    &  0    &   0   & 23.3  & 0.672 & 32    & 1    \\\\\n",
       "\t 1     &  89   & 66    & 23    &  94   & 28.1  & 0.167 & 21    & 0    \\\\\n",
       "\t 0     & 137   & 40    & 35    & 168   & 43.1  & 2.288 & 33    & 1    \\\\\n",
       "\t 5     & 116   & 74    &  0    &   0   & 25.6  & 0.201 & 30    & 0    \\\\\n",
       "\\end{tabular}\n"
      ],
      "text/markdown": [
       "\n",
       "| Pregnancies | Glucose | BloodPressure | SkinThickness | Insulin | BMI | DiabetesPedigreeFunction | Age | Outcome |\n",
       "|---|---|---|---|---|---|---|---|---|\n",
       "| 6     | 148   | 72    | 35    |   0   | 33.6  | 0.627 | 50    | 1     |\n",
       "| 1     |  85   | 66    | 29    |   0   | 26.6  | 0.351 | 31    | 0     |\n",
       "| 8     | 183   | 64    |  0    |   0   | 23.3  | 0.672 | 32    | 1     |\n",
       "| 1     |  89   | 66    | 23    |  94   | 28.1  | 0.167 | 21    | 0     |\n",
       "| 0     | 137   | 40    | 35    | 168   | 43.1  | 2.288 | 33    | 1     |\n",
       "| 5     | 116   | 74    |  0    |   0   | 25.6  | 0.201 | 30    | 0     |\n",
       "\n"
      ],
      "text/plain": [
       "  Pregnancies Glucose BloodPressure SkinThickness Insulin BMI \n",
       "1 6           148     72            35              0     33.6\n",
       "2 1            85     66            29              0     26.6\n",
       "3 8           183     64             0              0     23.3\n",
       "4 1            89     66            23             94     28.1\n",
       "5 0           137     40            35            168     43.1\n",
       "6 5           116     74             0              0     25.6\n",
       "  DiabetesPedigreeFunction Age Outcome\n",
       "1 0.627                    50  1      \n",
       "2 0.351                    31  0      \n",
       "3 0.672                    32  1      \n",
       "4 0.167                    21  0      \n",
       "5 2.288                    33  1      \n",
       "6 0.201                    30  0      "
      ]
     },
     "metadata": {},
     "output_type": "display_data"
    }
   ],
   "source": [
    "head(data)"
   ]
  },
  {
   "cell_type": "code",
   "execution_count": 5,
   "metadata": {},
   "outputs": [
    {
     "data": {
      "text/html": [
       "<table>\n",
       "<thead><tr><th></th><th scope=col>vars</th><th scope=col>n</th><th scope=col>mean</th><th scope=col>sd</th><th scope=col>median</th><th scope=col>trimmed</th><th scope=col>mad</th><th scope=col>min</th><th scope=col>max</th><th scope=col>range</th><th scope=col>skew</th><th scope=col>kurtosis</th><th scope=col>se</th></tr></thead>\n",
       "<tbody>\n",
       "\t<tr><th scope=row>Pregnancies</th><td>1          </td><td>768        </td><td>  3.8450521</td><td>  3.3695781</td><td>  3.0000   </td><td>  3.4610390</td><td> 2.9652000 </td><td> 0.000     </td><td> 17.00     </td><td> 17.000    </td><td> 0.8981549 </td><td> 0.1421840 </td><td>0.12158918 </td></tr>\n",
       "\t<tr><th scope=row>Glucose</th><td>2          </td><td>768        </td><td>120.8945312</td><td> 31.9726182</td><td>117.0000   </td><td>119.3798701</td><td>29.6520000 </td><td> 0.000     </td><td>199.00     </td><td>199.000    </td><td> 0.1730754 </td><td> 0.6193695 </td><td>1.15371248 </td></tr>\n",
       "\t<tr><th scope=row>BloodPressure</th><td>3          </td><td>768        </td><td> 69.1054688</td><td> 19.3558072</td><td> 72.0000   </td><td> 71.3571429</td><td>11.8608000 </td><td> 0.000     </td><td>122.00     </td><td>122.000    </td><td>-1.8364126 </td><td> 5.1175100 </td><td>0.69844253 </td></tr>\n",
       "\t<tr><th scope=row>SkinThickness</th><td>4          </td><td>768        </td><td> 20.5364583</td><td> 15.9522176</td><td> 23.0000   </td><td> 19.9366883</td><td>17.7912000 </td><td> 0.000     </td><td> 99.00     </td><td> 99.000    </td><td> 0.1089456 </td><td>-0.5309369 </td><td>0.57562607 </td></tr>\n",
       "\t<tr><th scope=row>Insulin</th><td>5          </td><td>768        </td><td> 79.7994792</td><td>115.2440024</td><td> 30.5000   </td><td> 56.7451299</td><td>45.2193000 </td><td> 0.000     </td><td>846.00     </td><td>846.000    </td><td> 2.2633826 </td><td> 7.1331349 </td><td>4.15850974 </td></tr>\n",
       "\t<tr><th scope=row>BMI</th><td>6          </td><td>768        </td><td> 31.9925781</td><td>  7.8841603</td><td> 32.0000   </td><td> 31.9592532</td><td> 6.8199600 </td><td> 0.000     </td><td> 67.10     </td><td> 67.100    </td><td>-0.4273073 </td><td> 3.2449627 </td><td>0.28449513 </td></tr>\n",
       "\t<tr><th scope=row>DiabetesPedigreeFunction</th><td>7          </td><td>768        </td><td>  0.4718763</td><td>  0.3313286</td><td>  0.3725   </td><td>  0.4215536</td><td> 0.2483355 </td><td> 0.078     </td><td>  2.42     </td><td>  2.342    </td><td> 1.9124179 </td><td> 5.5285389 </td><td>0.01195579 </td></tr>\n",
       "\t<tr><th scope=row>Age</th><td>8          </td><td>768        </td><td> 33.2408854</td><td> 11.7602315</td><td> 29.0000   </td><td> 31.5438312</td><td>10.3782000 </td><td>21.000     </td><td> 81.00     </td><td> 60.000    </td><td> 1.1251880 </td><td> 0.6217269 </td><td>0.42436080 </td></tr>\n",
       "\t<tr><th scope=row>Outcome</th><td>9          </td><td>768        </td><td>  0.3489583</td><td>  0.4769514</td><td>  0.0000   </td><td>  0.3116883</td><td> 0.0000000 </td><td> 0.000     </td><td>  1.00     </td><td>  1.000    </td><td> 0.6325383 </td><td>-1.6019762 </td><td>0.01721050 </td></tr>\n",
       "</tbody>\n",
       "</table>\n"
      ],
      "text/latex": [
       "\\begin{tabular}{r|lllllllllllll}\n",
       "  & vars & n & mean & sd & median & trimmed & mad & min & max & range & skew & kurtosis & se\\\\\n",
       "\\hline\n",
       "\tPregnancies & 1           & 768         &   3.8450521 &   3.3695781 &   3.0000    &   3.4610390 &  2.9652000  &  0.000      &  17.00      &  17.000     &  0.8981549  &  0.1421840  & 0.12158918 \\\\\n",
       "\tGlucose & 2           & 768         & 120.8945312 &  31.9726182 & 117.0000    & 119.3798701 & 29.6520000  &  0.000      & 199.00      & 199.000     &  0.1730754  &  0.6193695  & 1.15371248 \\\\\n",
       "\tBloodPressure & 3           & 768         &  69.1054688 &  19.3558072 &  72.0000    &  71.3571429 & 11.8608000  &  0.000      & 122.00      & 122.000     & -1.8364126  &  5.1175100  & 0.69844253 \\\\\n",
       "\tSkinThickness & 4           & 768         &  20.5364583 &  15.9522176 &  23.0000    &  19.9366883 & 17.7912000  &  0.000      &  99.00      &  99.000     &  0.1089456  & -0.5309369  & 0.57562607 \\\\\n",
       "\tInsulin & 5           & 768         &  79.7994792 & 115.2440024 &  30.5000    &  56.7451299 & 45.2193000  &  0.000      & 846.00      & 846.000     &  2.2633826  &  7.1331349  & 4.15850974 \\\\\n",
       "\tBMI & 6           & 768         &  31.9925781 &   7.8841603 &  32.0000    &  31.9592532 &  6.8199600  &  0.000      &  67.10      &  67.100     & -0.4273073  &  3.2449627  & 0.28449513 \\\\\n",
       "\tDiabetesPedigreeFunction & 7           & 768         &   0.4718763 &   0.3313286 &   0.3725    &   0.4215536 &  0.2483355  &  0.078      &   2.42      &   2.342     &  1.9124179  &  5.5285389  & 0.01195579 \\\\\n",
       "\tAge & 8           & 768         &  33.2408854 &  11.7602315 &  29.0000    &  31.5438312 & 10.3782000  & 21.000      &  81.00      &  60.000     &  1.1251880  &  0.6217269  & 0.42436080 \\\\\n",
       "\tOutcome & 9           & 768         &   0.3489583 &   0.4769514 &   0.0000    &   0.3116883 &  0.0000000  &  0.000      &   1.00      &   1.000     &  0.6325383  & -1.6019762  & 0.01721050 \\\\\n",
       "\\end{tabular}\n"
      ],
      "text/markdown": [
       "\n",
       "| <!--/--> | vars | n | mean | sd | median | trimmed | mad | min | max | range | skew | kurtosis | se |\n",
       "|---|---|---|---|---|---|---|---|---|---|---|---|---|---|\n",
       "| Pregnancies | 1           | 768         |   3.8450521 |   3.3695781 |   3.0000    |   3.4610390 |  2.9652000  |  0.000      |  17.00      |  17.000     |  0.8981549  |  0.1421840  | 0.12158918  |\n",
       "| Glucose | 2           | 768         | 120.8945312 |  31.9726182 | 117.0000    | 119.3798701 | 29.6520000  |  0.000      | 199.00      | 199.000     |  0.1730754  |  0.6193695  | 1.15371248  |\n",
       "| BloodPressure | 3           | 768         |  69.1054688 |  19.3558072 |  72.0000    |  71.3571429 | 11.8608000  |  0.000      | 122.00      | 122.000     | -1.8364126  |  5.1175100  | 0.69844253  |\n",
       "| SkinThickness | 4           | 768         |  20.5364583 |  15.9522176 |  23.0000    |  19.9366883 | 17.7912000  |  0.000      |  99.00      |  99.000     |  0.1089456  | -0.5309369  | 0.57562607  |\n",
       "| Insulin | 5           | 768         |  79.7994792 | 115.2440024 |  30.5000    |  56.7451299 | 45.2193000  |  0.000      | 846.00      | 846.000     |  2.2633826  |  7.1331349  | 4.15850974  |\n",
       "| BMI | 6           | 768         |  31.9925781 |   7.8841603 |  32.0000    |  31.9592532 |  6.8199600  |  0.000      |  67.10      |  67.100     | -0.4273073  |  3.2449627  | 0.28449513  |\n",
       "| DiabetesPedigreeFunction | 7           | 768         |   0.4718763 |   0.3313286 |   0.3725    |   0.4215536 |  0.2483355  |  0.078      |   2.42      |   2.342     |  1.9124179  |  5.5285389  | 0.01195579  |\n",
       "| Age | 8           | 768         |  33.2408854 |  11.7602315 |  29.0000    |  31.5438312 | 10.3782000  | 21.000      |  81.00      |  60.000     |  1.1251880  |  0.6217269  | 0.42436080  |\n",
       "| Outcome | 9           | 768         |   0.3489583 |   0.4769514 |   0.0000    |   0.3116883 |  0.0000000  |  0.000      |   1.00      |   1.000     |  0.6325383  | -1.6019762  | 0.01721050  |\n",
       "\n"
      ],
      "text/plain": [
       "                         vars n   mean        sd          median   trimmed    \n",
       "Pregnancies              1    768   3.8450521   3.3695781   3.0000   3.4610390\n",
       "Glucose                  2    768 120.8945312  31.9726182 117.0000 119.3798701\n",
       "BloodPressure            3    768  69.1054688  19.3558072  72.0000  71.3571429\n",
       "SkinThickness            4    768  20.5364583  15.9522176  23.0000  19.9366883\n",
       "Insulin                  5    768  79.7994792 115.2440024  30.5000  56.7451299\n",
       "BMI                      6    768  31.9925781   7.8841603  32.0000  31.9592532\n",
       "DiabetesPedigreeFunction 7    768   0.4718763   0.3313286   0.3725   0.4215536\n",
       "Age                      8    768  33.2408854  11.7602315  29.0000  31.5438312\n",
       "Outcome                  9    768   0.3489583   0.4769514   0.0000   0.3116883\n",
       "                         mad        min    max    range   skew       kurtosis  \n",
       "Pregnancies               2.9652000  0.000  17.00  17.000  0.8981549  0.1421840\n",
       "Glucose                  29.6520000  0.000 199.00 199.000  0.1730754  0.6193695\n",
       "BloodPressure            11.8608000  0.000 122.00 122.000 -1.8364126  5.1175100\n",
       "SkinThickness            17.7912000  0.000  99.00  99.000  0.1089456 -0.5309369\n",
       "Insulin                  45.2193000  0.000 846.00 846.000  2.2633826  7.1331349\n",
       "BMI                       6.8199600  0.000  67.10  67.100 -0.4273073  3.2449627\n",
       "DiabetesPedigreeFunction  0.2483355  0.078   2.42   2.342  1.9124179  5.5285389\n",
       "Age                      10.3782000 21.000  81.00  60.000  1.1251880  0.6217269\n",
       "Outcome                   0.0000000  0.000   1.00   1.000  0.6325383 -1.6019762\n",
       "                         se        \n",
       "Pregnancies              0.12158918\n",
       "Glucose                  1.15371248\n",
       "BloodPressure            0.69844253\n",
       "SkinThickness            0.57562607\n",
       "Insulin                  4.15850974\n",
       "BMI                      0.28449513\n",
       "DiabetesPedigreeFunction 0.01195579\n",
       "Age                      0.42436080\n",
       "Outcome                  0.01721050"
      ]
     },
     "metadata": {},
     "output_type": "display_data"
    }
   ],
   "source": [
    "#install.packages('psych')\n",
    "library(psych)\n",
    "describe(data)"
   ]
  },
  {
   "cell_type": "markdown",
   "metadata": {},
   "source": [
    "#### Data Cleaning"
   ]
  },
  {
   "cell_type": "markdown",
   "metadata": {},
   "source": [
    "En analysant la structure du dataset, nous pouvons constater que les valeurs minimales pour le glucose, la tension artérielle, la maladie de la peau, l'insuline et l'IMC sont toutes égales à zéro. Ce n'est pas l'idéal puisque personne ne peut avoir une valeur nulle pour le glucose, la pression sanguine, etc. C'est pourquoi ces valeurs sont considérées comme des observations manquantes."
   ]
  },
  {
   "cell_type": "code",
   "execution_count": 6,
   "metadata": {},
   "outputs": [],
   "source": [
    "#Convert '0' values into NA\n",
    "data[, 2:7][data[, 2:7] == 0] <- NA"
   ]
  },
  {
   "cell_type": "code",
   "execution_count": 7,
   "metadata": {},
   "outputs": [],
   "source": [
    "data <- na.omit(data)"
   ]
  },
  {
   "cell_type": "markdown",
   "metadata": {},
   "source": [
    "#### EDA"
   ]
  },
  {
   "cell_type": "markdown",
   "metadata": {},
   "source": [
    "Maintenant, effectuons quelques visualisations pour mieux examiner chaque variable. Cette étape est essentielle pour comprendre la signification de chaque variable prédictive."
   ]
  },
  {
   "cell_type": "code",
   "execution_count": 8,
   "metadata": {},
   "outputs": [
    {
     "name": "stderr",
     "output_type": "stream",
     "text": [
      "corrplot 0.84 loaded\n"
     ]
    },
    {
     "data": {
      "image/png": "[encoded data removed]",
      "text/plain": [
       "Plot with title \"\""
      ]
     },
     "metadata": {},
     "output_type": "display_data"
    }
   ],
   "source": [
    "library(corrplot)\n",
    "\n",
    "data %>% \n",
    "    select_if(is.numeric) %>% \n",
    "    cor() %>% \n",
    "    corrplot::corrplot()"
   ]
  },
  {
   "cell_type": "markdown",
   "metadata": {},
   "source": [
    "Avant d'étudier le dataset, convertissons la variable de sortie (\"Outcome\") en une variable catégorielle. Ceci est nécessaire car notre sortie se présentera sous la forme de 2 classes, Vrai ou Faux. Vrai signifie qu'un patient est diabétique et Faux signifie qu'une personne n'est pas diabétique."
   ]
  },
  {
   "cell_type": "code",
   "execution_count": 9,
   "metadata": {},
   "outputs": [],
   "source": [
    "#Setting outcome variables as categorical\n",
    "data$Outcome <- factor(data$Outcome, levels = c(0,1), labels = c(\"False\", \"True\"))"
   ]
  },
  {
   "cell_type": "code",
   "execution_count": 32,
   "metadata": {},
   "outputs": [
    {
     "data": {
      "image/png": "[encoded data removed]",
      "text/plain": [
       "plot without title"
      ]
     },
     "metadata": {},
     "output_type": "display_data"
    }
   ],
   "source": [
    "library(ggplot2)\n",
    "library(repr)\n",
    "\n",
    "options(repr.plot.width = 4, repr.plot.height = 2.75)\n",
    "ggplot(data, aes(Age, colour = Outcome)) +\n",
    "geom_freqpoly(binwidth = 1) + labs(title=\"Age Distribution by Outcome\")"
   ]
  },
  {
   "cell_type": "code",
   "execution_count": 11,
   "metadata": {},
   "outputs": [
    {
     "data": {
      "image/png": "[encoded data removed]",
      "text/plain": [
       "plot without title"
      ]
     },
     "metadata": {},
     "output_type": "display_data"
    }
   ],
   "source": [
    "c <- ggplot(data, aes(x=Pregnancies, fill=Outcome, color=Outcome)) +\n",
    "geom_histogram(binwidth = 1) + labs(title=\"Pregnancy Distribution by Outcome\")\n",
    "c + theme_bw()"
   ]
  },
  {
   "cell_type": "code",
   "execution_count": 12,
   "metadata": {},
   "outputs": [
    {
     "data": {
      "image/png": "[encoded data removed]",
      "text/plain": [
       "plot without title"
      ]
     },
     "metadata": {},
     "output_type": "display_data"
    }
   ],
   "source": [
    "P <- ggplot(data, aes(x=BMI, fill=Outcome, color=Outcome)) +\n",
    "geom_histogram(binwidth = 1) + labs(title=\"BMI Distribution by Outcome\")\n",
    "P + theme_bw()"
   ]
  },
  {
   "cell_type": "code",
   "execution_count": 13,
   "metadata": {},
   "outputs": [
    {
     "data": {
      "image/png": "[encoded data removed]",
      "text/plain": [
       "plot without title"
      ]
     },
     "metadata": {},
     "output_type": "display_data"
    }
   ],
   "source": [
    "ggplot(data, aes(Glucose, colour = Outcome)) +\n",
    "geom_freqpoly(binwidth = 1) + labs(title=\"Glucose Distribution by Outcome\")"
   ]
  },
  {
   "cell_type": "code",
   "execution_count": 31,
   "metadata": {},
   "outputs": [
    {
     "name": "stderr",
     "output_type": "stream",
     "text": [
      "`stat_bin()` using `bins = 30`. Pick better value with `binwidth`.\n",
      "`stat_bin()` using `bins = 30`. Pick better value with `binwidth`.\n",
      "`stat_bin()` using `bins = 30`. Pick better value with `binwidth`.\n",
      "`stat_bin()` using `bins = 30`. Pick better value with `binwidth`.\n",
      "`stat_bin()` using `bins = 30`. Pick better value with `binwidth`.\n",
      "`stat_bin()` using `bins = 30`. Pick better value with `binwidth`.\n",
      "`stat_bin()` using `bins = 30`. Pick better value with `binwidth`.\n",
      "`stat_bin()` using `bins = 30`. Pick better value with `binwidth`.\n"
     ]
    },
    {
     "data": {
      "image/png": "[encoded data removed]",
      "text/plain": [
       "plot without title"
      ]
     },
     "metadata": {},
     "output_type": "display_data"
    }
   ],
   "source": [
    "library(GGally)\n",
    "options(repr.plot.width = 9, repr.plot.height = 5)\n",
    "ggpairs(data)"
   ]
  },
  {
   "cell_type": "code",
   "execution_count": 29,
   "metadata": {},
   "outputs": [
    {
     "data": {
      "image/png": "[encoded data removed]",
      "text/plain": [
       "plot without title"
      ]
     },
     "metadata": {},
     "output_type": "display_data"
    }
   ],
   "source": [
    "# Boxplot of Pregnancies and outcome\n",
    "boxplot(Pregnancies~Outcome,data=data,\n",
    "   xlab=\"Outcome\", ylab=\"Pregnancies\")"
   ]
  },
  {
   "cell_type": "markdown",
   "metadata": {},
   "source": [
    "#### Data modeling"
   ]
  },
  {
   "cell_type": "markdown",
   "metadata": {},
   "source": [
    "Cette étape commence par un processus appelé \"Data Splitting\", dans lequel le dataset est divisé en deux parties :\n",
    "\n",
    "    Training : Cette partie est utilisée pour construire et former le modèle Machine Learning.\n",
    "    Testing : Cette partie est utilisée pour évaluer l'efficacité du modèle."
   ]
  },
  {
   "cell_type": "code",
   "execution_count": null,
   "metadata": {},
   "outputs": [],
   "source": [
    "library(rsample)\n",
    "# Create training (70%) and test (30%) sets for the attrition data.\n",
    "# Use set.seed for reproducibility\n",
    "set.seed(123)\n",
    "split <- initial_split(data, prop = .7, strata = \"Outcome\")\n",
    "training <- training(split)\n",
    "testing  <- testing(split)\n",
    "\n",
    "#Check dimensions of the split > \n",
    "prop.table(table(data$Outcome)) * 100 # *100 to get in percentage "
   ]
  },
  {
   "cell_type": "code",
   "execution_count": null,
   "metadata": {},
   "outputs": [],
   "source": [
    "prop.table(table(training$Outcome)) * 100"
   ]
  },
  {
   "cell_type": "code",
   "execution_count": null,
   "metadata": {},
   "outputs": [],
   "source": [
    "prop.table(table(testing$Outcome)) * 100"
   ]
  },
  {
   "cell_type": "code",
   "execution_count": null,
   "metadata": {},
   "outputs": [],
   "source": [
    "head(training)"
   ]
  },
  {
   "cell_type": "code",
   "execution_count": null,
   "metadata": {},
   "outputs": [],
   "source": [
    "names(training)"
   ]
  },
  {
   "cell_type": "code",
   "execution_count": null,
   "metadata": {},
   "outputs": [],
   "source": [
    "training %>% \n",
    "    select(Pregnancies, Glucose, BloodPressure, SkinThickness, Insulin, BMI, DiabetesPedigreeFunction, Age) %>% \n",
    "    gather(metric, value) %>% \n",
    "    ggplot(aes(value, fill = metric)) + \n",
    "    geom_density(show.legend = FALSE) + \n",
    "    facet_wrap(~ metric, scales = \"free\")"
   ]
  },
  {
   "cell_type": "code",
   "execution_count": null,
   "metadata": {},
   "outputs": [],
   "source": [
    "#load e1071 library and invoke naiveBayes method\n",
    "library(e1071)\n",
    "nb_model <- naiveBayes(Outcome~.,data = training)"
   ]
  },
  {
   "cell_type": "code",
   "execution_count": null,
   "metadata": {},
   "outputs": [],
   "source": [
    "nb_test_predict <- predict(nb_model,testing[,-1])"
   ]
  },
  {
   "cell_type": "code",
   "execution_count": null,
   "metadata": {},
   "outputs": [],
   "source": [
    "#confusion matrix\n",
    "table_mat <- table(pred=nb_test_predict,true=testing$Outcome)\n",
    "table_mat"
   ]
  },
  {
   "cell_type": "code",
   "execution_count": null,
   "metadata": {},
   "outputs": [],
   "source": [
    "# sum(diag(table_mat)): Sum of the diagonal ; sum(table_mat): Sum of the matrix.\n",
    "accuracy_Test <- sum(diag(table_mat)) / sum(table_mat)"
   ]
  },
  {
   "cell_type": "code",
   "execution_count": null,
   "metadata": {},
   "outputs": [],
   "source": [
    "print(paste('Accuracy for test', accuracy_Test))"
   ]
  },
  {
   "cell_type": "markdown",
   "metadata": {},
   "source": [
    "### Example using caret~naivebayes"
   ]
  },
  {
   "cell_type": "markdown",
   "metadata": {},
   "source": [
    "Caret give to Naive Bayes algorithm the possibility tu fine tune hyperparameters to get that extra better accuracy"
   ]
  },
  {
   "cell_type": "code",
   "execution_count": null,
   "metadata": {},
   "outputs": [],
   "source": [
    "library(caret, quietly = TRUE)\n",
    "library(naivebayes)"
   ]
  },
  {
   "cell_type": "code",
   "execution_count": null,
   "metadata": {},
   "outputs": [],
   "source": [
    "# Train the Naive Bayes model with the Caret package\n",
    "naive_bayes_via_caret <- train(Outcome ~ ., \n",
    "                               data = training,\n",
    "                               method = \"naive_bayes\")"
   ]
  },
  {
   "cell_type": "code",
   "execution_count": null,
   "metadata": {},
   "outputs": [],
   "source": [
    "# Classification\n",
    "head(predict(naive_bayes_via_caret, newdata = testing))"
   ]
  },
  {
   "cell_type": "code",
   "execution_count": null,
   "metadata": {},
   "outputs": [],
   "source": [
    "head(predict(naive_bayes_via_caret, newdata = testing, type = \"prob\"))"
   ]
  },
  {
   "cell_type": "code",
   "execution_count": null,
   "metadata": {},
   "outputs": [],
   "source": [
    "## Recover the naive_bayes object\n",
    "nb_object <- naive_bayes_via_caret$finalModel\n",
    "class(nb_object)"
   ]
  },
  {
   "cell_type": "code",
   "execution_count": null,
   "metadata": {},
   "outputs": [],
   "source": [
    "# Define tuning grid \n",
    "nb_grid <- expand.grid(usekernel = c(TRUE, FALSE),\n",
    "                       laplace = c(0, 0.5, 1),\n",
    "                       adjust = c(0.75, 1, 1.25, 1.5))"
   ]
  },
  {
   "cell_type": "markdown",
   "metadata": {},
   "source": [
    "**laplace** : rajoute 1 à la combinaison de facteurs qui ne se passent jamais, faire varier ce parametre améliore la puissance de prédiction du model.\n",
    "\n",
    "**adjust** : la bandwidth, input du KDE, utilisé uniquement quand usekernel est TRUE. La bandwidth en KDE represente la quantité de disperssion dans la KDE kernel function.\n",
    "\n",
    "**KDE** : Kernel density estimation, méthode non-paramétrique d’estimation de la densité de probabilité d’une variable aléatoire. Elle se base sur un échantillon d’une population statistique et permet d’estimer la densité en tout point du support. En ce sens, cette méthode généralise astucieusement la méthode d’estimation par un histogramme. "
   ]
  },
  {
   "cell_type": "code",
   "execution_count": null,
   "metadata": {},
   "outputs": [],
   "source": [
    "# Fit the Naive Bayes model \n",
    "set.seed(2550)\n",
    "naive_bayes_via_caret2 <- train(Outcome ~ ., data = training,\n",
    "                               method = \"naive_bayes\",\n",
    "                               tuneGrid = nb_grid)"
   ]
  },
  {
   "cell_type": "code",
   "execution_count": null,
   "metadata": {},
   "outputs": [],
   "source": [
    "# Selected tuning parameters\n",
    "naive_bayes_via_caret2$finalModel$tuneValue"
   ]
  },
  {
   "cell_type": "code",
   "execution_count": null,
   "metadata": {},
   "outputs": [],
   "source": [
    "# Visualize the tuning process\n",
    "plot(naive_bayes_via_caret2)"
   ]
  },
  {
   "cell_type": "code",
   "execution_count": null,
   "metadata": {},
   "outputs": [],
   "source": [
    "# Perform classification \n",
    "head(predict(naive_bayes_via_caret2, newdata = testing))"
   ]
  },
  {
   "cell_type": "code",
   "execution_count": null,
   "metadata": {},
   "outputs": [],
   "source": [
    "nb_test_predict <- predict(naive_bayes_via_caret2, newdata = testing)"
   ]
  },
  {
   "cell_type": "code",
   "execution_count": null,
   "metadata": {},
   "outputs": [],
   "source": [
    "#confusion matrix\n",
    "table_mat <- table(pred=nb_test_predict,true=testing$Outcome)\n",
    "table_mat"
   ]
  },
  {
   "cell_type": "code",
   "execution_count": null,
   "metadata": {},
   "outputs": [],
   "source": [
    "accuracy_Test <- sum(diag(table_mat)) / sum(table_mat)"
   ]
  },
  {
   "cell_type": "code",
   "execution_count": null,
   "metadata": {},
   "outputs": [],
   "source": [
    "print(paste('Accuracy for test', accuracy_Test))"
   ]
  }
 ],
 "metadata": {
  "kernelspec": {
   "display_name": "R",
   "language": "R",
   "name": "ir"
  },
  "language_info": {
   "codemirror_mode": "r",
   "file_extension": ".r",
   "mimetype": "text/x-r-source",
   "name": "R",
   "pygments_lexer": "r",
   "version": "3.6.1"
  }
 },
 "nbformat": 4,
 "nbformat_minor": 4
}
